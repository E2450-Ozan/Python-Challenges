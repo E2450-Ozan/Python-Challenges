{
 "cells": [
  {
   "cell_type": "code",
   "execution_count": 40,
   "metadata": {},
   "outputs": [
    {
     "name": "stdout",
     "output_type": "stream",
     "text": [
      "Please, write bank acoount number... : 12324235678\n",
      "False\n"
     ]
    }
   ],
   "source": [
    "toplam = 0\n",
    "\n",
    "for i in range(len(number)) :\n",
    "    if i % 2 == 0 :\n",
    "        if int(number[i]) * 2 > 9 :\n",
    "            toplam += int(str(int(number[i]) * 2)[1]) + int(str(int(number[i]) * 2)[0])\n",
    "        else :\n",
    "            toplam += int(number[i])\n",
    "    else :\n",
    "        toplam += int(i)\n",
    "\n",
    "if toplam % 10 == 0 :\n",
    "    return True\n",
    "else :\n",
    "    return False\n",
    "    \n",
    "\n"
   ]
  },
  {
   "cell_type": "code",
   "execution_count": 24,
   "metadata": {},
   "outputs": [
    {
     "data": {
      "text/plain": [
       "[10, 6, 2]"
      ]
     },
     "execution_count": 24,
     "metadata": {},
     "output_type": "execute_result"
    }
   ],
   "source": [
    "456567"
   ]
  }
 ],
 "metadata": {
  "kernelspec": {
   "display_name": "Python 3",
   "language": "python",
   "name": "python3"
  },
  "language_info": {
   "codemirror_mode": {
    "name": "ipython",
    "version": 3
   },
   "file_extension": ".py",
   "mimetype": "text/x-python",
   "name": "python",
   "nbconvert_exporter": "python",
   "pygments_lexer": "ipython3",
   "version": "3.7.6"
  }
 },
 "nbformat": 4,
 "nbformat_minor": 4
}
